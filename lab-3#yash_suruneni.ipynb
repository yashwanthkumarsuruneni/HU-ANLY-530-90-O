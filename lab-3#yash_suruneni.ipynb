{
 "cells": [
  {
   "cell_type": "markdown",
   "metadata": {},
   "source": [
    "## PART-1"
   ]
  },
  {
   "cell_type": "code",
   "execution_count": 1,
   "metadata": {},
   "outputs": [
    {
     "data": {
      "text/html": [
       "<div>\n",
       "<style scoped>\n",
       "    .dataframe tbody tr th:only-of-type {\n",
       "        vertical-align: middle;\n",
       "    }\n",
       "\n",
       "    .dataframe tbody tr th {\n",
       "        vertical-align: top;\n",
       "    }\n",
       "\n",
       "    .dataframe thead th {\n",
       "        text-align: right;\n",
       "    }\n",
       "</style>\n",
       "<table border=\"1\" class=\"dataframe\">\n",
       "  <thead>\n",
       "    <tr style=\"text-align: right;\">\n",
       "      <th></th>\n",
       "      <th>Channel</th>\n",
       "      <th>Region</th>\n",
       "      <th>Fresh</th>\n",
       "      <th>Milk</th>\n",
       "      <th>Grocery</th>\n",
       "      <th>Frozen</th>\n",
       "      <th>Detergents_Paper</th>\n",
       "      <th>Delicassen</th>\n",
       "    </tr>\n",
       "  </thead>\n",
       "  <tbody>\n",
       "    <tr>\n",
       "      <th>0</th>\n",
       "      <td>2</td>\n",
       "      <td>3</td>\n",
       "      <td>12669</td>\n",
       "      <td>9656</td>\n",
       "      <td>7561</td>\n",
       "      <td>214</td>\n",
       "      <td>2674</td>\n",
       "      <td>1338</td>\n",
       "    </tr>\n",
       "    <tr>\n",
       "      <th>1</th>\n",
       "      <td>2</td>\n",
       "      <td>3</td>\n",
       "      <td>7057</td>\n",
       "      <td>9810</td>\n",
       "      <td>9568</td>\n",
       "      <td>1762</td>\n",
       "      <td>3293</td>\n",
       "      <td>1776</td>\n",
       "    </tr>\n",
       "    <tr>\n",
       "      <th>2</th>\n",
       "      <td>2</td>\n",
       "      <td>3</td>\n",
       "      <td>6353</td>\n",
       "      <td>8808</td>\n",
       "      <td>7684</td>\n",
       "      <td>2405</td>\n",
       "      <td>3516</td>\n",
       "      <td>7844</td>\n",
       "    </tr>\n",
       "    <tr>\n",
       "      <th>3</th>\n",
       "      <td>1</td>\n",
       "      <td>3</td>\n",
       "      <td>13265</td>\n",
       "      <td>1196</td>\n",
       "      <td>4221</td>\n",
       "      <td>6404</td>\n",
       "      <td>507</td>\n",
       "      <td>1788</td>\n",
       "    </tr>\n",
       "    <tr>\n",
       "      <th>4</th>\n",
       "      <td>2</td>\n",
       "      <td>3</td>\n",
       "      <td>22615</td>\n",
       "      <td>5410</td>\n",
       "      <td>7198</td>\n",
       "      <td>3915</td>\n",
       "      <td>1777</td>\n",
       "      <td>5185</td>\n",
       "    </tr>\n",
       "  </tbody>\n",
       "</table>\n",
       "</div>"
      ],
      "text/plain": [
       "   Channel  Region  Fresh  Milk  Grocery  Frozen  Detergents_Paper  Delicassen\n",
       "0        2       3  12669  9656     7561     214              2674        1338\n",
       "1        2       3   7057  9810     9568    1762              3293        1776\n",
       "2        2       3   6353  8808     7684    2405              3516        7844\n",
       "3        1       3  13265  1196     4221    6404               507        1788\n",
       "4        2       3  22615  5410     7198    3915              1777        5185"
      ]
     },
     "execution_count": 1,
     "metadata": {},
     "output_type": "execute_result"
    }
   ],
   "source": [
    "import pandas as pd\n",
    "# import the csv file\n",
    "input_file = \"./Wholesale_customers_data.csv\"\n",
    "wholesale = pd.read_csv(input_file)\n",
    "wholesale.head(5)"
   ]
  },
  {
   "cell_type": "code",
   "execution_count": 2,
   "metadata": {},
   "outputs": [
    {
     "name": "stdout",
     "output_type": "stream",
     "text": [
      "Maximum of  Fresh  is 112151  while mean value is  12000.297727272728\n",
      "Maximum of  Milk  is 73498  while mean value is  5796.265909090909\n",
      "Maximum of  Grocery  is 92780  while mean value is  7951.277272727273\n",
      "Maximum of  Frozen  is 60869  while mean value is  3071.931818181818\n",
      "Maximum of  Detergents_Paper  is 40827  while mean value is  2881.4931818181817\n",
      "Maximum of  Delicassen  is 47943  while mean value is  1524.8704545454545\n"
     ]
    }
   ],
   "source": [
    "# Want to see more about data?\n",
    "wholesale.describe\n",
    "#Let's see what is off the table\n",
    "for i in ['Fresh','Milk','Grocery','Frozen','Detergents_Paper','Delicassen']:\n",
    " print('Maximum of ',i, ' is',wholesale[i].max(), ' while mean value is ',wholesale[i].mean())"
   ]
  },
  {
   "cell_type": "code",
   "execution_count": 5,
   "metadata": {},
   "outputs": [
    {
     "data": {
      "image/png": "[encoded data removed]",
      "text/plain": [
       "<Figure size 432x288 with 1 Axes>"
      ]
     },
     "metadata": {
      "needs_background": "light"
     },
     "output_type": "display_data"
    }
   ],
   "source": [
    "# What if we fit a normal distribution to one of the variables\n",
    "import numpy as np\n",
    "import matplotlib.pyplot as plt \n",
    "from scipy.stats import norm\n",
    "mu = wholesale['Fresh'].mean()\n",
    "sigma = wholesale['Fresh'].std()\n",
    "x = np.linspace(mu-3*sigma, mu+3*sigma, 100)\n",
    "#x_axis = np.arange(0, 10, 0.001) #plt.plot(wholesale['Fresh'].max(), norm.pdf(x,mu,sigma)) plt.axvline(x=mu,color='r')\n",
    "plt.plot(x, norm.pdf(x,mu,sigma)) #plt.plot([wholesale['Fresh'].max()], [0], marker='o', markersize=3, color=\"red\")\n",
    "plt.title('Distribution of Fresh price')\n",
    "plt.xlabel('Price of Fresh')\n",
    "plt.show()"
   ]
  },
  {
   "cell_type": "code",
   "execution_count": 6,
   "metadata": {},
   "outputs": [
    {
     "name": "stdout",
     "output_type": "stream",
     "text": [
      "Number of dropped instances=  26\n"
     ]
    }
   ],
   "source": [
    "from scipy import stats\n",
    "'''For each column, first it computes the Z-score of each value in the column, relative to the column mean and standard deviation.\n",
    "Then is takes the absolute of Z-score because the direction does not matter, only if it is below the threshold.\n",
    "all(axis=1) ensures that for each row, all column satisfy the constraint. Finally, result of this condition is used to index the dataframe.''' \n",
    "wholesale_new = wholesale[(np.abs(stats.zscore(wholesale)) < 3).all(axis=1)] \n",
    "wholesale_new = wholesale_new.drop(['Channel', 'Region'], axis= 1) \n",
    "wholesale_new.describe()\n",
    "# How many data points were dropped?\n",
    "print('Number of dropped instances= ', wholesale.shape[0]- wholesale_new.shape[0])"
   ]
  },
  {
   "cell_type": "code",
   "execution_count": 7,
   "metadata": {},
   "outputs": [
    {
     "data": {
      "text/plain": [
       "array([[ 5601.90243902, 13389.90243902, 21652.53658537,  1694.12195122,\n",
       "         9204.        ,  1678.51219512],\n",
       "       [ 4162.7721519 ,  7627.49367089, 10667.25316456,  1331.39240506,\n",
       "         4609.58227848,  1411.5443038 ],\n",
       "       [ 5043.85416667,  2312.11805556,  2759.42361111,  2584.42361111,\n",
       "          651.02777778,   838.83333333],\n",
       "       [31873.80434783,  4961.95652174,  5597.04347826,  4014.2173913 ,\n",
       "         1002.43478261,  1790.39130435],\n",
       "       [16188.66346154,  2925.21153846,  4189.67307692,  3117.38461538,\n",
       "          973.11538462,  1240.63461538]])"
      ]
     },
     "execution_count": 7,
     "metadata": {},
     "output_type": "execute_result"
    }
   ],
   "source": [
    "from sklearn.cluster import KMeans \n",
    "kmeans = KMeans(n_clusters=5, random_state=76964057).fit(wholesale_new)\n",
    "kmeans.cluster_centers_"
   ]
  },
  {
   "cell_type": "code",
   "execution_count": 8,
   "metadata": {},
   "outputs": [
    {
     "data": {
      "text/html": [
       "<div>\n",
       "<style scoped>\n",
       "    .dataframe tbody tr th:only-of-type {\n",
       "        vertical-align: middle;\n",
       "    }\n",
       "\n",
       "    .dataframe tbody tr th {\n",
       "        vertical-align: top;\n",
       "    }\n",
       "\n",
       "    .dataframe thead th {\n",
       "        text-align: right;\n",
       "    }\n",
       "</style>\n",
       "<table border=\"1\" class=\"dataframe\">\n",
       "  <thead>\n",
       "    <tr style=\"text-align: right;\">\n",
       "      <th></th>\n",
       "      <th>Fresh</th>\n",
       "      <th>Milk</th>\n",
       "      <th>Grocery</th>\n",
       "      <th>Frozen</th>\n",
       "      <th>Detergents_Paper</th>\n",
       "      <th>Delicassen</th>\n",
       "    </tr>\n",
       "  </thead>\n",
       "  <tbody>\n",
       "    <tr>\n",
       "      <th>0</th>\n",
       "      <td>5601.902439</td>\n",
       "      <td>13389.902439</td>\n",
       "      <td>21652.536585</td>\n",
       "      <td>1694.121951</td>\n",
       "      <td>9204.000000</td>\n",
       "      <td>1678.512195</td>\n",
       "    </tr>\n",
       "    <tr>\n",
       "      <th>1</th>\n",
       "      <td>4162.772152</td>\n",
       "      <td>7627.493671</td>\n",
       "      <td>10667.253165</td>\n",
       "      <td>1331.392405</td>\n",
       "      <td>4609.582278</td>\n",
       "      <td>1411.544304</td>\n",
       "    </tr>\n",
       "    <tr>\n",
       "      <th>2</th>\n",
       "      <td>5043.854167</td>\n",
       "      <td>2312.118056</td>\n",
       "      <td>2759.423611</td>\n",
       "      <td>2584.423611</td>\n",
       "      <td>651.027778</td>\n",
       "      <td>838.833333</td>\n",
       "    </tr>\n",
       "    <tr>\n",
       "      <th>3</th>\n",
       "      <td>31873.804348</td>\n",
       "      <td>4961.956522</td>\n",
       "      <td>5597.043478</td>\n",
       "      <td>4014.217391</td>\n",
       "      <td>1002.434783</td>\n",
       "      <td>1790.391304</td>\n",
       "    </tr>\n",
       "    <tr>\n",
       "      <th>4</th>\n",
       "      <td>16188.663462</td>\n",
       "      <td>2925.211538</td>\n",
       "      <td>4189.673077</td>\n",
       "      <td>3117.384615</td>\n",
       "      <td>973.115385</td>\n",
       "      <td>1240.634615</td>\n",
       "    </tr>\n",
       "  </tbody>\n",
       "</table>\n",
       "</div>"
      ],
      "text/plain": [
       "          Fresh          Milk       Grocery       Frozen  Detergents_Paper  \\\n",
       "0   5601.902439  13389.902439  21652.536585  1694.121951       9204.000000   \n",
       "1   4162.772152   7627.493671  10667.253165  1331.392405       4609.582278   \n",
       "2   5043.854167   2312.118056   2759.423611  2584.423611        651.027778   \n",
       "3  31873.804348   4961.956522   5597.043478  4014.217391       1002.434783   \n",
       "4  16188.663462   2925.211538   4189.673077  3117.384615        973.115385   \n",
       "\n",
       "    Delicassen  \n",
       "0  1678.512195  \n",
       "1  1411.544304  \n",
       "2   838.833333  \n",
       "3  1790.391304  \n",
       "4  1240.634615  "
      ]
     },
     "execution_count": 8,
     "metadata": {},
     "output_type": "execute_result"
    }
   ],
   "source": [
    "pd.DataFrame(data=kmeans.cluster_centers_, columns=['Fresh','Milk','Grocery','Frozen','Detergents_Paper','Delicassen'])"
   ]
  },
  {
   "cell_type": "code",
   "execution_count": 9,
   "metadata": {},
   "outputs": [
    {
     "name": "stdout",
     "output_type": "stream",
     "text": [
      "At k=  2 The percentage of change in SSE is  38.0597606028824 %\n",
      "At k=  3 The percentage of change in SSE is  36.7913967944305 %\n",
      "At k=  4 The percentage of change in SSE is  19.94915206028665 %\n",
      "At k=  5 The percentage of change in SSE is  15.635519627808378 %\n",
      "At k=  6 The percentage of change in SSE is  11.295115791504164 %\n",
      "At k=  7 The percentage of change in SSE is  8.833462851954527 %\n",
      "At k=  8 The percentage of change in SSE is  7.0617745977338275 %\n",
      "At k=  9 The percentage of change in SSE is  6.5803062615751475 %\n",
      "At k=  10 The percentage of change in SSE is  5.571992494841826 %\n",
      "At k=  11 The percentage of change in SSE is  7.054703473127493 %\n",
      "At k=  12 The percentage of change in SSE is  3.692432627569809 %\n",
      "At k=  13 The percentage of change in SSE is  5.992731865415148 %\n",
      "At k=  14 The percentage of change in SSE is  5.361861124884759 %\n",
      "At k=  15 The percentage of change in SSE is  5.899747351111475 %\n",
      "At k=  16 The percentage of change in SSE is  4.167879364644005 %\n",
      "At k=  17 The percentage of change in SSE is  3.405166286978196 %\n",
      "At k=  18 The percentage of change in SSE is  5.819391672166329 %\n"
     ]
    },
    {
     "data": {
      "image/png": "[encoded data removed]",
      "text/plain": [
       "<Figure size 432x288 with 1 Axes>"
      ]
     },
     "metadata": {
      "needs_background": "light"
     },
     "output_type": "display_data"
    }
   ],
   "source": [
    "sse = {}\n",
    "last_sse = 73984012841.4855 \n",
    "for k in range(2, 19):\n",
    "    kmeans = KMeans(n_clusters=k, random_state=76964057).fit(wholesale_new) \n",
    "    wholesale_new[\"clusters\"] = kmeans.labels_\n",
    "#print(data[\"clusters\"])\n",
    "    sse[k] = kmeans.inertia_ # Inertia: Sum of distances of samples to their closest cluster center\n",
    "    change_per = (last_sse-kmeans.inertia_)/last_sse*100\n",
    "    print ('At k= ',k,'The percentage of change in SSE is ',change_per,'%') \n",
    "    last_sse = kmeans.inertia_\n",
    "plt.figure()\n",
    "plt.plot(list(sse.keys()), list(sse.values()))\n",
    "plt.xlabel(\"Number of cluster\") \n",
    "plt.ylabel(\"SSE\")\n",
    "plt.show()"
   ]
  },
  {
   "cell_type": "markdown",
   "metadata": {},
   "source": [
    "#### Q1. Given this is an imperfect real-world, you need to determine what you believe is the best value for “k” and write-up this portion of your lab report "
   ]
  },
  {
   "cell_type": "markdown",
   "metadata": {},
   "source": [
    "The idea of the elbow method is to run k-means clustering on the dataset for a range of values of k. If the line chart looks like an arm, then the “elbow” on the arm is the value of k that is the best. The idea is that we want a small SSE, but that the SSE tends to decrease toward 0 as we increase k (the SSE is 0 when k is equal to the number of data points in the dataset, because then each data point is its own cluster, and there is no error between it and the center of its cluster). \n",
    "\n",
    "The best value for K here is 4."
   ]
  },
  {
   "cell_type": "markdown",
   "metadata": {},
   "source": [
    "#### Q2. How many points do you see in each cluster?"
   ]
  },
  {
   "cell_type": "code",
   "execution_count": 10,
   "metadata": {},
   "outputs": [
    {
     "data": {
      "text/plain": [
       "0     54\n",
       "4     50\n",
       "16    47\n",
       "6     38\n",
       "10    36\n",
       "2     34\n",
       "13    20\n",
       "1     19\n",
       "12    19\n",
       "11    18\n",
       "9     17\n",
       "3     14\n",
       "5     14\n",
       "8     13\n",
       "7     10\n",
       "17     5\n",
       "14     4\n",
       "15     2\n",
       "dtype: int64"
      ]
     },
     "execution_count": 10,
     "metadata": {},
     "output_type": "execute_result"
    }
   ],
   "source": [
    "pd.Series(kmeans.labels_).value_counts()"
   ]
  },
  {
   "cell_type": "markdown",
   "metadata": {},
   "source": [
    "The number of data points for the K-value of 4 (or if the data set is divided into 4 clusters) is 50."
   ]
  },
  {
   "cell_type": "markdown",
   "metadata": {},
   "source": [
    "## PART-2 "
   ]
  },
  {
   "cell_type": "code",
   "execution_count": 11,
   "metadata": {},
   "outputs": [
    {
     "data": {
      "text/html": [
       "<div>\n",
       "<style scoped>\n",
       "    .dataframe tbody tr th:only-of-type {\n",
       "        vertical-align: middle;\n",
       "    }\n",
       "\n",
       "    .dataframe tbody tr th {\n",
       "        vertical-align: top;\n",
       "    }\n",
       "\n",
       "    .dataframe thead th {\n",
       "        text-align: right;\n",
       "    }\n",
       "</style>\n",
       "<table border=\"1\" class=\"dataframe\">\n",
       "  <thead>\n",
       "    <tr style=\"text-align: right;\">\n",
       "      <th></th>\n",
       "      <th>Wine</th>\n",
       "      <th>Alcohol</th>\n",
       "      <th>Malic.acid</th>\n",
       "      <th>Ash</th>\n",
       "      <th>Acl</th>\n",
       "      <th>Mg</th>\n",
       "      <th>Phenols</th>\n",
       "      <th>Flavanoids</th>\n",
       "      <th>Nonflavanoid.phenols</th>\n",
       "      <th>Proanth</th>\n",
       "      <th>Color.int</th>\n",
       "      <th>Hue</th>\n",
       "      <th>OD</th>\n",
       "      <th>Proline</th>\n",
       "    </tr>\n",
       "  </thead>\n",
       "  <tbody>\n",
       "    <tr>\n",
       "      <th>0</th>\n",
       "      <td>1</td>\n",
       "      <td>14.23</td>\n",
       "      <td>1.71</td>\n",
       "      <td>2.43</td>\n",
       "      <td>15.6</td>\n",
       "      <td>127</td>\n",
       "      <td>2.80</td>\n",
       "      <td>3.06</td>\n",
       "      <td>0.28</td>\n",
       "      <td>2.29</td>\n",
       "      <td>5.64</td>\n",
       "      <td>1.04</td>\n",
       "      <td>3.92</td>\n",
       "      <td>1065</td>\n",
       "    </tr>\n",
       "    <tr>\n",
       "      <th>1</th>\n",
       "      <td>1</td>\n",
       "      <td>13.20</td>\n",
       "      <td>1.78</td>\n",
       "      <td>2.14</td>\n",
       "      <td>11.2</td>\n",
       "      <td>100</td>\n",
       "      <td>2.65</td>\n",
       "      <td>2.76</td>\n",
       "      <td>0.26</td>\n",
       "      <td>1.28</td>\n",
       "      <td>4.38</td>\n",
       "      <td>1.05</td>\n",
       "      <td>3.40</td>\n",
       "      <td>1050</td>\n",
       "    </tr>\n",
       "    <tr>\n",
       "      <th>2</th>\n",
       "      <td>1</td>\n",
       "      <td>13.16</td>\n",
       "      <td>2.36</td>\n",
       "      <td>2.67</td>\n",
       "      <td>18.6</td>\n",
       "      <td>101</td>\n",
       "      <td>2.80</td>\n",
       "      <td>3.24</td>\n",
       "      <td>0.30</td>\n",
       "      <td>2.81</td>\n",
       "      <td>5.68</td>\n",
       "      <td>1.03</td>\n",
       "      <td>3.17</td>\n",
       "      <td>1185</td>\n",
       "    </tr>\n",
       "    <tr>\n",
       "      <th>3</th>\n",
       "      <td>1</td>\n",
       "      <td>14.37</td>\n",
       "      <td>1.95</td>\n",
       "      <td>2.50</td>\n",
       "      <td>16.8</td>\n",
       "      <td>113</td>\n",
       "      <td>3.85</td>\n",
       "      <td>3.49</td>\n",
       "      <td>0.24</td>\n",
       "      <td>2.18</td>\n",
       "      <td>7.80</td>\n",
       "      <td>0.86</td>\n",
       "      <td>3.45</td>\n",
       "      <td>1480</td>\n",
       "    </tr>\n",
       "    <tr>\n",
       "      <th>4</th>\n",
       "      <td>1</td>\n",
       "      <td>13.24</td>\n",
       "      <td>2.59</td>\n",
       "      <td>2.87</td>\n",
       "      <td>21.0</td>\n",
       "      <td>118</td>\n",
       "      <td>2.80</td>\n",
       "      <td>2.69</td>\n",
       "      <td>0.39</td>\n",
       "      <td>1.82</td>\n",
       "      <td>4.32</td>\n",
       "      <td>1.04</td>\n",
       "      <td>2.93</td>\n",
       "      <td>735</td>\n",
       "    </tr>\n",
       "  </tbody>\n",
       "</table>\n",
       "</div>"
      ],
      "text/plain": [
       "   Wine  Alcohol  Malic.acid   Ash   Acl   Mg  Phenols  Flavanoids  \\\n",
       "0     1    14.23        1.71  2.43  15.6  127     2.80        3.06   \n",
       "1     1    13.20        1.78  2.14  11.2  100     2.65        2.76   \n",
       "2     1    13.16        2.36  2.67  18.6  101     2.80        3.24   \n",
       "3     1    14.37        1.95  2.50  16.8  113     3.85        3.49   \n",
       "4     1    13.24        2.59  2.87  21.0  118     2.80        2.69   \n",
       "\n",
       "   Nonflavanoid.phenols  Proanth  Color.int   Hue    OD  Proline  \n",
       "0                  0.28     2.29       5.64  1.04  3.92     1065  \n",
       "1                  0.26     1.28       4.38  1.05  3.40     1050  \n",
       "2                  0.30     2.81       5.68  1.03  3.17     1185  \n",
       "3                  0.24     2.18       7.80  0.86  3.45     1480  \n",
       "4                  0.39     1.82       4.32  1.04  2.93      735  "
      ]
     },
     "execution_count": 11,
     "metadata": {},
     "output_type": "execute_result"
    }
   ],
   "source": [
    "input_file = \"./wine.csv\" \n",
    "wine = pd.read_csv(input_file) \n",
    "wine.head(5)"
   ]
  },
  {
   "cell_type": "code",
   "execution_count": 12,
   "metadata": {},
   "outputs": [
    {
     "name": "stdout",
     "output_type": "stream",
     "text": [
      "At k=  2 The percentage of change in SSE is  74.17179849353498 %\n",
      "At k=  3 The percentage of change in SSE is  47.82453814618579 %\n",
      "At k=  4 The percentage of change in SSE is  43.76290393092094 %\n",
      "At k=  5 The percentage of change in SSE is  31.26272599531727 %\n",
      "At k=  6 The percentage of change in SSE is  29.355404307904937 %\n",
      "At k=  7 The percentage of change in SSE is  36.30582495188441 %\n",
      "At k=  8 The percentage of change in SSE is  21.31162611597545 %\n",
      "At k=  9 The percentage of change in SSE is  16.705478681868115 %\n",
      "At k=  10 The percentage of change in SSE is  19.171090469523477 %\n",
      "At k=  11 The percentage of change in SSE is  14.678107631265991 %\n",
      "At k=  12 The percentage of change in SSE is  14.701842390101547 %\n",
      "At k=  13 The percentage of change in SSE is  10.016590140404528 %\n",
      "At k=  14 The percentage of change in SSE is  10.18142281388603 %\n"
     ]
    },
    {
     "data": {
      "image/png": "[encoded data removed]",
      "text/plain": [
       "<Figure size 432x288 with 1 Axes>"
      ]
     },
     "metadata": {
      "needs_background": "light"
     },
     "output_type": "display_data"
    }
   ],
   "source": [
    "sse = {} \n",
    "last_sse = 17592402.70373319 \n",
    "for k in range(2, 15): \n",
    "    kmeans = KMeans(n_clusters=k, random_state=1234).fit(wine) \n",
    "    wine[\"clusters\"] = kmeans.labels_  \n",
    "    sse[k] = kmeans.inertia_ \n",
    "    # Inertia: Sum of distances of samples to their closest cluster center \n",
    "    change_per = (last_sse-kmeans.inertia_)/last_sse*100 \n",
    "    print ('At k= ', k ,'The percentage of change in SSE is ',change_per,'%')\n",
    "    last_sse = kmeans.inertia_ \n",
    "plt.figure() \n",
    "plt.plot(list(sse.keys()), list(sse.values())) \n",
    "plt.xlabel(\"Number of cluster\") \n",
    "plt.ylabel(\"SSE\") \n",
    "plt.show()"
   ]
  },
  {
   "cell_type": "markdown",
   "metadata": {},
   "source": [
    "The best value of K is 3, ie if the data set is divided into 3 clusters, we get the best value of sse (sum of squared errors). "
   ]
  },
  {
   "cell_type": "code",
   "execution_count": 13,
   "metadata": {},
   "outputs": [
    {
     "data": {
      "text/plain": [
       "1    69\n",
       "2    62\n",
       "0    47\n",
       "dtype: int64"
      ]
     },
     "execution_count": 13,
     "metadata": {},
     "output_type": "execute_result"
    }
   ],
   "source": [
    "kmeans = KMeans(n_clusters=3, random_state=1234).fit(wine) \n",
    "pd.Series(kmeans.labels_).value_counts() "
   ]
  },
  {
   "cell_type": "code",
   "execution_count": 14,
   "metadata": {},
   "outputs": [
    {
     "data": {
      "text/plain": [
       "array([[46,  1,  0],\n",
       "       [ 0, 50, 19],\n",
       "       [13, 20, 29]])"
      ]
     },
     "execution_count": 14,
     "metadata": {},
     "output_type": "execute_result"
    }
   ],
   "source": [
    "from sklearn.metrics import confusion_matrix \n",
    "from sklearn.metrics import accuracy_score \n",
    "# Make a comparison between actual wine type and the predicted one\n",
    "confusion_matrix(kmeans.labels_, wine['Wine']-1) "
   ]
  },
  {
   "cell_type": "code",
   "execution_count": 15,
   "metadata": {},
   "outputs": [
    {
     "data": {
      "text/plain": [
       "70.2247191011236"
      ]
     },
     "execution_count": 15,
     "metadata": {},
     "output_type": "execute_result"
    }
   ],
   "source": [
    "accuracy_score(kmeans.labels_, wine['Wine']-1)*100 "
   ]
  },
  {
   "cell_type": "markdown",
   "metadata": {},
   "source": [
    "## PART-3"
   ]
  },
  {
   "cell_type": "code",
   "execution_count": 16,
   "metadata": {},
   "outputs": [
    {
     "data": {
      "text/html": [
       "<div>\n",
       "<style scoped>\n",
       "    .dataframe tbody tr th:only-of-type {\n",
       "        vertical-align: middle;\n",
       "    }\n",
       "\n",
       "    .dataframe tbody tr th {\n",
       "        vertical-align: top;\n",
       "    }\n",
       "\n",
       "    .dataframe thead th {\n",
       "        text-align: right;\n",
       "    }\n",
       "</style>\n",
       "<table border=\"1\" class=\"dataframe\">\n",
       "  <thead>\n",
       "    <tr style=\"text-align: right;\">\n",
       "      <th></th>\n",
       "      <th>Alcohol</th>\n",
       "      <th>Malic.acid</th>\n",
       "      <th>Ash</th>\n",
       "      <th>Acl</th>\n",
       "      <th>Mg</th>\n",
       "      <th>Phenols</th>\n",
       "      <th>Flavanoids</th>\n",
       "      <th>Nonflavanoid.phenols</th>\n",
       "      <th>Proanth</th>\n",
       "      <th>Color.int</th>\n",
       "      <th>Hue</th>\n",
       "      <th>OD</th>\n",
       "      <th>Proline</th>\n",
       "      <th>clusters</th>\n",
       "    </tr>\n",
       "  </thead>\n",
       "  <tbody>\n",
       "    <tr>\n",
       "      <th>35</th>\n",
       "      <td>13.48</td>\n",
       "      <td>1.81</td>\n",
       "      <td>2.41</td>\n",
       "      <td>20.5</td>\n",
       "      <td>100</td>\n",
       "      <td>2.70</td>\n",
       "      <td>2.98</td>\n",
       "      <td>0.26</td>\n",
       "      <td>1.86</td>\n",
       "      <td>5.10</td>\n",
       "      <td>1.04</td>\n",
       "      <td>3.47</td>\n",
       "      <td>920</td>\n",
       "      <td>3</td>\n",
       "    </tr>\n",
       "    <tr>\n",
       "      <th>20</th>\n",
       "      <td>14.06</td>\n",
       "      <td>1.63</td>\n",
       "      <td>2.28</td>\n",
       "      <td>16.0</td>\n",
       "      <td>126</td>\n",
       "      <td>3.00</td>\n",
       "      <td>3.17</td>\n",
       "      <td>0.24</td>\n",
       "      <td>2.10</td>\n",
       "      <td>5.65</td>\n",
       "      <td>1.09</td>\n",
       "      <td>3.71</td>\n",
       "      <td>780</td>\n",
       "      <td>10</td>\n",
       "    </tr>\n",
       "    <tr>\n",
       "      <th>134</th>\n",
       "      <td>12.51</td>\n",
       "      <td>1.24</td>\n",
       "      <td>2.25</td>\n",
       "      <td>17.5</td>\n",
       "      <td>85</td>\n",
       "      <td>2.00</td>\n",
       "      <td>0.58</td>\n",
       "      <td>0.60</td>\n",
       "      <td>1.25</td>\n",
       "      <td>5.45</td>\n",
       "      <td>0.75</td>\n",
       "      <td>1.51</td>\n",
       "      <td>650</td>\n",
       "      <td>1</td>\n",
       "    </tr>\n",
       "    <tr>\n",
       "      <th>102</th>\n",
       "      <td>12.34</td>\n",
       "      <td>2.45</td>\n",
       "      <td>2.46</td>\n",
       "      <td>21.0</td>\n",
       "      <td>98</td>\n",
       "      <td>2.56</td>\n",
       "      <td>2.11</td>\n",
       "      <td>0.34</td>\n",
       "      <td>1.31</td>\n",
       "      <td>2.80</td>\n",
       "      <td>0.80</td>\n",
       "      <td>3.38</td>\n",
       "      <td>438</td>\n",
       "      <td>9</td>\n",
       "    </tr>\n",
       "    <tr>\n",
       "      <th>106</th>\n",
       "      <td>12.25</td>\n",
       "      <td>1.73</td>\n",
       "      <td>2.12</td>\n",
       "      <td>19.0</td>\n",
       "      <td>80</td>\n",
       "      <td>1.65</td>\n",
       "      <td>2.03</td>\n",
       "      <td>0.37</td>\n",
       "      <td>1.63</td>\n",
       "      <td>3.40</td>\n",
       "      <td>1.00</td>\n",
       "      <td>3.17</td>\n",
       "      <td>510</td>\n",
       "      <td>4</td>\n",
       "    </tr>\n",
       "  </tbody>\n",
       "</table>\n",
       "</div>"
      ],
      "text/plain": [
       "     Alcohol  Malic.acid   Ash   Acl   Mg  Phenols  Flavanoids  \\\n",
       "35     13.48        1.81  2.41  20.5  100     2.70        2.98   \n",
       "20     14.06        1.63  2.28  16.0  126     3.00        3.17   \n",
       "134    12.51        1.24  2.25  17.5   85     2.00        0.58   \n",
       "102    12.34        2.45  2.46  21.0   98     2.56        2.11   \n",
       "106    12.25        1.73  2.12  19.0   80     1.65        2.03   \n",
       "\n",
       "     Nonflavanoid.phenols  Proanth  Color.int   Hue    OD  Proline  clusters  \n",
       "35                   0.26     1.86       5.10  1.04  3.47      920         3  \n",
       "20                   0.24     2.10       5.65  1.09  3.71      780        10  \n",
       "134                  0.60     1.25       5.45  0.75  1.51      650         1  \n",
       "102                  0.34     1.31       2.80  0.80  3.38      438         9  \n",
       "106                  0.37     1.63       3.40  1.00  3.17      510         4  "
      ]
     },
     "execution_count": 16,
     "metadata": {},
     "output_type": "execute_result"
    }
   ],
   "source": [
    "import numpy as np \n",
    "from sklearn.model_selection import train_test_split \n",
    "y = kmeans.labels_\n",
    "X = wine.drop(['Wine'], axis=1) \n",
    "X_train, X_test, y_train, y_test = train_test_split(X, y, test_size=0.30, random_state=1234)\n",
    "X_train.head(5)"
   ]
  },
  {
   "cell_type": "code",
   "execution_count": 19,
   "metadata": {},
   "outputs": [],
   "source": [
    "from sklearn import tree \n",
    "from sklearn.tree import DecisionTreeClassifier \n",
    "model = tree.DecisionTreeClassifier() \n",
    "model = model.fit(X_train, y_train)"
   ]
  },
  {
   "cell_type": "code",
   "execution_count": 20,
   "metadata": {},
   "outputs": [
    {
     "data": {
      "image/svg+xml": [
       "<svg xmlns=\"http://www.w3.org/2000/svg\" xmlns:xlink=\"http://www.w3.org/1999/xlink\" width=\"331pt\" height=\"269pt\" viewBox=\"0.00 0.00 331.00 269.00\">\n",
       "<g id=\"graph0\" class=\"graph\" transform=\"scale(1 1) rotate(0) translate(4 265)\">\n",
       "<title>Tree</title>\n",
       "<polygon fill=\"white\" stroke=\"transparent\" points=\"-4,4 -4,-265 327,-265 327,4 -4,4\"/>\n",
       "<!-- 0 -->\n",
       "<g id=\"node1\" class=\"node\">\n",
       "<title>0</title>\n",
       "<polygon fill=\"#fdfdff\" stroke=\"black\" points=\"193.5,-261 61.5,-261 61.5,-193 193.5,-193 193.5,-261\"/>\n",
       "<text text-anchor=\"middle\" x=\"127.5\" y=\"-245.8\" font-family=\"Times,serif\" font-size=\"14.00\">Proline &lt;= 595.0</text>\n",
       "<text text-anchor=\"middle\" x=\"127.5\" y=\"-230.8\" font-family=\"Times,serif\" font-size=\"14.00\">gini = 0.663</text>\n",
       "<text text-anchor=\"middle\" x=\"127.5\" y=\"-215.8\" font-family=\"Times,serif\" font-size=\"14.00\">samples = 124</text>\n",
       "<text text-anchor=\"middle\" x=\"127.5\" y=\"-200.8\" font-family=\"Times,serif\" font-size=\"14.00\">value = [35, 44, 45]</text>\n",
       "</g>\n",
       "<!-- 1 -->\n",
       "<g id=\"node2\" class=\"node\">\n",
       "<title>1</title>\n",
       "<polygon fill=\"#39e581\" stroke=\"black\" points=\"117,-149.5 0,-149.5 0,-96.5 117,-96.5 117,-149.5\"/>\n",
       "<text text-anchor=\"middle\" x=\"58.5\" y=\"-134.3\" font-family=\"Times,serif\" font-size=\"14.00\">gini = 0.0</text>\n",
       "<text text-anchor=\"middle\" x=\"58.5\" y=\"-119.3\" font-family=\"Times,serif\" font-size=\"14.00\">samples = 44</text>\n",
       "<text text-anchor=\"middle\" x=\"58.5\" y=\"-104.3\" font-family=\"Times,serif\" font-size=\"14.00\">value = [0, 44, 0]</text>\n",
       "</g>\n",
       "<!-- 0&#45;&gt;1 -->\n",
       "<g id=\"edge1\" class=\"edge\">\n",
       "<title>0-&gt;1</title>\n",
       "<path fill=\"none\" stroke=\"black\" d=\"M105.1,-192.88C97.51,-181.67 89.03,-169.13 81.4,-157.85\"/>\n",
       "<polygon fill=\"black\" stroke=\"black\" points=\"84.27,-155.84 75.76,-149.52 78.47,-159.76 84.27,-155.84\"/>\n",
       "<text text-anchor=\"middle\" x=\"71.03\" y=\"-170.37\" font-family=\"Times,serif\" font-size=\"14.00\">True</text>\n",
       "</g>\n",
       "<!-- 2 -->\n",
       "<g id=\"node3\" class=\"node\">\n",
       "<title>2</title>\n",
       "<polygon fill=\"#e3d3f9\" stroke=\"black\" points=\"260,-157 135,-157 135,-89 260,-89 260,-157\"/>\n",
       "<text text-anchor=\"middle\" x=\"197.5\" y=\"-141.8\" font-family=\"Times,serif\" font-size=\"14.00\">Proline &lt;= 953.5</text>\n",
       "<text text-anchor=\"middle\" x=\"197.5\" y=\"-126.8\" font-family=\"Times,serif\" font-size=\"14.00\">gini = 0.492</text>\n",
       "<text text-anchor=\"middle\" x=\"197.5\" y=\"-111.8\" font-family=\"Times,serif\" font-size=\"14.00\">samples = 80</text>\n",
       "<text text-anchor=\"middle\" x=\"197.5\" y=\"-96.8\" font-family=\"Times,serif\" font-size=\"14.00\">value = [35, 0, 45]</text>\n",
       "</g>\n",
       "<!-- 0&#45;&gt;2 -->\n",
       "<g id=\"edge2\" class=\"edge\">\n",
       "<title>0-&gt;2</title>\n",
       "<path fill=\"none\" stroke=\"black\" d=\"M150.23,-192.88C156.16,-184.24 162.62,-174.82 168.82,-165.79\"/>\n",
       "<polygon fill=\"black\" stroke=\"black\" points=\"171.87,-167.52 174.65,-157.3 166.1,-163.56 171.87,-167.52\"/>\n",
       "<text text-anchor=\"middle\" x=\"179.22\" y=\"-178.18\" font-family=\"Times,serif\" font-size=\"14.00\">False</text>\n",
       "</g>\n",
       "<!-- 3 -->\n",
       "<g id=\"node4\" class=\"node\">\n",
       "<title>3</title>\n",
       "<polygon fill=\"#8139e5\" stroke=\"black\" points=\"188,-53 71,-53 71,0 188,0 188,-53\"/>\n",
       "<text text-anchor=\"middle\" x=\"129.5\" y=\"-37.8\" font-family=\"Times,serif\" font-size=\"14.00\">gini = 0.0</text>\n",
       "<text text-anchor=\"middle\" x=\"129.5\" y=\"-22.8\" font-family=\"Times,serif\" font-size=\"14.00\">samples = 45</text>\n",
       "<text text-anchor=\"middle\" x=\"129.5\" y=\"-7.8\" font-family=\"Times,serif\" font-size=\"14.00\">value = [0, 0, 45]</text>\n",
       "</g>\n",
       "<!-- 2&#45;&gt;3 -->\n",
       "<g id=\"edge3\" class=\"edge\">\n",
       "<title>2-&gt;3</title>\n",
       "<path fill=\"none\" stroke=\"black\" d=\"M173.72,-88.95C167.33,-80.07 160.42,-70.46 153.99,-61.54\"/>\n",
       "<polygon fill=\"black\" stroke=\"black\" points=\"156.7,-59.31 148.02,-53.24 151.02,-63.4 156.7,-59.31\"/>\n",
       "</g>\n",
       "<!-- 4 -->\n",
       "<g id=\"node5\" class=\"node\">\n",
       "<title>4</title>\n",
       "<polygon fill=\"#e58139\" stroke=\"black\" points=\"323,-53 206,-53 206,0 323,0 323,-53\"/>\n",
       "<text text-anchor=\"middle\" x=\"264.5\" y=\"-37.8\" font-family=\"Times,serif\" font-size=\"14.00\">gini = 0.0</text>\n",
       "<text text-anchor=\"middle\" x=\"264.5\" y=\"-22.8\" font-family=\"Times,serif\" font-size=\"14.00\">samples = 35</text>\n",
       "<text text-anchor=\"middle\" x=\"264.5\" y=\"-7.8\" font-family=\"Times,serif\" font-size=\"14.00\">value = [35, 0, 0]</text>\n",
       "</g>\n",
       "<!-- 2&#45;&gt;4 -->\n",
       "<g id=\"edge4\" class=\"edge\">\n",
       "<title>2-&gt;4</title>\n",
       "<path fill=\"none\" stroke=\"black\" d=\"M220.93,-88.95C227.22,-80.07 234.04,-70.46 240.37,-61.54\"/>\n",
       "<polygon fill=\"black\" stroke=\"black\" points=\"243.32,-63.42 246.25,-53.24 237.61,-59.37 243.32,-63.42\"/>\n",
       "</g>\n",
       "</g>\n",
       "</svg>"
      ],
      "text/plain": [
       "<IPython.core.display.SVG object>"
      ]
     },
     "metadata": {},
     "output_type": "display_data"
    }
   ],
   "source": [
    "from IPython.display import SVG\n",
    "from graphviz import Source\n",
    "from IPython.display import display\n",
    "\n",
    "graph = Source(tree.export_graphviz(model, out_file=None ,feature_names=X.columns, filled = True)) \n",
    "display(SVG(graph.pipe(format='svg')))"
   ]
  },
  {
   "cell_type": "code",
   "execution_count": 21,
   "metadata": {},
   "outputs": [
    {
     "name": "stdout",
     "output_type": "stream",
     "text": [
      "[[35  0  0]\n",
      " [ 0 44  0]\n",
      " [ 0  0 45]]\n",
      "100.0\n",
      "[[12  0  0]\n",
      " [ 0 25  0]\n",
      " [ 0  0 17]]\n",
      "100.0\n"
     ]
    }
   ],
   "source": [
    "# predicting model performance\n",
    "from sklearn.metrics import confusion_matrix \n",
    "from sklearn.metrics import accuracy_score\n",
    "\n",
    "# Training dataset\n",
    "y_predict = model.predict(X_train) \n",
    "print(confusion_matrix(y_train, y_predict))\n",
    "print(accuracy_score(y_train, y_predict)*100)\n",
    "# Test dataset\n",
    "y_predict = model.predict(X_test) \n",
    "print(confusion_matrix(y_test, y_predict))\n",
    "print(accuracy_score(y_test, y_predict)*100)"
   ]
  },
  {
   "cell_type": "markdown",
   "metadata": {},
   "source": [
    "If we see the classes assigned based on k-means analysis , The classification was completley done based on the value of Proline. Which is resulting in 100% Accuracy. So we can say that there is some misclassification."
   ]
  },
  {
   "cell_type": "markdown",
   "metadata": {},
   "source": [
    "## PART-4"
   ]
  },
  {
   "cell_type": "markdown",
   "metadata": {},
   "source": [
    "#### Q3. Load the dataset of breast cancer. Do the preliminary analysis and implement a KNN (K- nearest neighbors) model for this dataset and don’t forget that whenever it is required you should use: set.seed(12345). You can use following command and don’t forget to scale the data prior to design the model. "
   ]
  },
  {
   "cell_type": "code",
   "execution_count": 22,
   "metadata": {},
   "outputs": [
    {
     "data": {
      "text/html": [
       "<div>\n",
       "<style scoped>\n",
       "    .dataframe tbody tr th:only-of-type {\n",
       "        vertical-align: middle;\n",
       "    }\n",
       "\n",
       "    .dataframe tbody tr th {\n",
       "        vertical-align: top;\n",
       "    }\n",
       "\n",
       "    .dataframe thead th {\n",
       "        text-align: right;\n",
       "    }\n",
       "</style>\n",
       "<table border=\"1\" class=\"dataframe\">\n",
       "  <thead>\n",
       "    <tr style=\"text-align: right;\">\n",
       "      <th></th>\n",
       "      <th>id</th>\n",
       "      <th>diagnosis</th>\n",
       "      <th>radius_mean</th>\n",
       "      <th>texture_mean</th>\n",
       "      <th>perimeter_mean</th>\n",
       "      <th>area_mean</th>\n",
       "      <th>smoothness_mean</th>\n",
       "      <th>compactness_mean</th>\n",
       "      <th>concavity_mean</th>\n",
       "      <th>points_mean</th>\n",
       "      <th>...</th>\n",
       "      <th>radius_worst</th>\n",
       "      <th>texture_worst</th>\n",
       "      <th>perimeter_worst</th>\n",
       "      <th>area_worst</th>\n",
       "      <th>smoothness_worst</th>\n",
       "      <th>compactness_worst</th>\n",
       "      <th>concavity_worst</th>\n",
       "      <th>points_worst</th>\n",
       "      <th>symmetry_worst</th>\n",
       "      <th>dimension_worst</th>\n",
       "    </tr>\n",
       "  </thead>\n",
       "  <tbody>\n",
       "    <tr>\n",
       "      <th>0</th>\n",
       "      <td>87139402</td>\n",
       "      <td>B</td>\n",
       "      <td>12.32</td>\n",
       "      <td>12.39</td>\n",
       "      <td>78.85</td>\n",
       "      <td>464.1</td>\n",
       "      <td>0.10280</td>\n",
       "      <td>0.06981</td>\n",
       "      <td>0.03987</td>\n",
       "      <td>0.03700</td>\n",
       "      <td>...</td>\n",
       "      <td>13.50</td>\n",
       "      <td>15.64</td>\n",
       "      <td>86.97</td>\n",
       "      <td>549.1</td>\n",
       "      <td>0.1385</td>\n",
       "      <td>0.1266</td>\n",
       "      <td>0.12420</td>\n",
       "      <td>0.09391</td>\n",
       "      <td>0.2827</td>\n",
       "      <td>0.06771</td>\n",
       "    </tr>\n",
       "    <tr>\n",
       "      <th>1</th>\n",
       "      <td>8910251</td>\n",
       "      <td>B</td>\n",
       "      <td>10.60</td>\n",
       "      <td>18.95</td>\n",
       "      <td>69.28</td>\n",
       "      <td>346.4</td>\n",
       "      <td>0.09688</td>\n",
       "      <td>0.11470</td>\n",
       "      <td>0.06387</td>\n",
       "      <td>0.02642</td>\n",
       "      <td>...</td>\n",
       "      <td>11.88</td>\n",
       "      <td>22.94</td>\n",
       "      <td>78.28</td>\n",
       "      <td>424.8</td>\n",
       "      <td>0.1213</td>\n",
       "      <td>0.2515</td>\n",
       "      <td>0.19160</td>\n",
       "      <td>0.07926</td>\n",
       "      <td>0.2940</td>\n",
       "      <td>0.07587</td>\n",
       "    </tr>\n",
       "    <tr>\n",
       "      <th>2</th>\n",
       "      <td>905520</td>\n",
       "      <td>B</td>\n",
       "      <td>11.04</td>\n",
       "      <td>16.83</td>\n",
       "      <td>70.92</td>\n",
       "      <td>373.2</td>\n",
       "      <td>0.10770</td>\n",
       "      <td>0.07804</td>\n",
       "      <td>0.03046</td>\n",
       "      <td>0.02480</td>\n",
       "      <td>...</td>\n",
       "      <td>12.41</td>\n",
       "      <td>26.44</td>\n",
       "      <td>79.93</td>\n",
       "      <td>471.4</td>\n",
       "      <td>0.1369</td>\n",
       "      <td>0.1482</td>\n",
       "      <td>0.10670</td>\n",
       "      <td>0.07431</td>\n",
       "      <td>0.2998</td>\n",
       "      <td>0.07881</td>\n",
       "    </tr>\n",
       "    <tr>\n",
       "      <th>3</th>\n",
       "      <td>868871</td>\n",
       "      <td>B</td>\n",
       "      <td>11.28</td>\n",
       "      <td>13.39</td>\n",
       "      <td>73.00</td>\n",
       "      <td>384.8</td>\n",
       "      <td>0.11640</td>\n",
       "      <td>0.11360</td>\n",
       "      <td>0.04635</td>\n",
       "      <td>0.04796</td>\n",
       "      <td>...</td>\n",
       "      <td>11.92</td>\n",
       "      <td>15.77</td>\n",
       "      <td>76.53</td>\n",
       "      <td>434.0</td>\n",
       "      <td>0.1367</td>\n",
       "      <td>0.1822</td>\n",
       "      <td>0.08669</td>\n",
       "      <td>0.08611</td>\n",
       "      <td>0.2102</td>\n",
       "      <td>0.06784</td>\n",
       "    </tr>\n",
       "    <tr>\n",
       "      <th>4</th>\n",
       "      <td>9012568</td>\n",
       "      <td>B</td>\n",
       "      <td>15.19</td>\n",
       "      <td>13.21</td>\n",
       "      <td>97.65</td>\n",
       "      <td>711.8</td>\n",
       "      <td>0.07963</td>\n",
       "      <td>0.06934</td>\n",
       "      <td>0.03393</td>\n",
       "      <td>0.02657</td>\n",
       "      <td>...</td>\n",
       "      <td>16.20</td>\n",
       "      <td>15.73</td>\n",
       "      <td>104.50</td>\n",
       "      <td>819.1</td>\n",
       "      <td>0.1126</td>\n",
       "      <td>0.1737</td>\n",
       "      <td>0.13620</td>\n",
       "      <td>0.08178</td>\n",
       "      <td>0.2487</td>\n",
       "      <td>0.06766</td>\n",
       "    </tr>\n",
       "  </tbody>\n",
       "</table>\n",
       "<p>5 rows × 32 columns</p>\n",
       "</div>"
      ],
      "text/plain": [
       "         id diagnosis  radius_mean  texture_mean  perimeter_mean  area_mean  \\\n",
       "0  87139402         B        12.32         12.39           78.85      464.1   \n",
       "1   8910251         B        10.60         18.95           69.28      346.4   \n",
       "2    905520         B        11.04         16.83           70.92      373.2   \n",
       "3    868871         B        11.28         13.39           73.00      384.8   \n",
       "4   9012568         B        15.19         13.21           97.65      711.8   \n",
       "\n",
       "   smoothness_mean  compactness_mean  concavity_mean  points_mean  ...  \\\n",
       "0          0.10280           0.06981         0.03987      0.03700  ...   \n",
       "1          0.09688           0.11470         0.06387      0.02642  ...   \n",
       "2          0.10770           0.07804         0.03046      0.02480  ...   \n",
       "3          0.11640           0.11360         0.04635      0.04796  ...   \n",
       "4          0.07963           0.06934         0.03393      0.02657  ...   \n",
       "\n",
       "   radius_worst  texture_worst  perimeter_worst  area_worst  smoothness_worst  \\\n",
       "0         13.50          15.64            86.97       549.1            0.1385   \n",
       "1         11.88          22.94            78.28       424.8            0.1213   \n",
       "2         12.41          26.44            79.93       471.4            0.1369   \n",
       "3         11.92          15.77            76.53       434.0            0.1367   \n",
       "4         16.20          15.73           104.50       819.1            0.1126   \n",
       "\n",
       "   compactness_worst  concavity_worst  points_worst  symmetry_worst  \\\n",
       "0             0.1266          0.12420       0.09391          0.2827   \n",
       "1             0.2515          0.19160       0.07926          0.2940   \n",
       "2             0.1482          0.10670       0.07431          0.2998   \n",
       "3             0.1822          0.08669       0.08611          0.2102   \n",
       "4             0.1737          0.13620       0.08178          0.2487   \n",
       "\n",
       "   dimension_worst  \n",
       "0          0.06771  \n",
       "1          0.07587  \n",
       "2          0.07881  \n",
       "3          0.06784  \n",
       "4          0.06766  \n",
       "\n",
       "[5 rows x 32 columns]"
      ]
     },
     "execution_count": 22,
     "metadata": {},
     "output_type": "execute_result"
    }
   ],
   "source": [
    "input_file = \"./wisc_bc_data.csv\" \n",
    "breast_cancer = pd.read_csv(input_file) \n",
    "breast_cancer.head(5)"
   ]
  },
  {
   "cell_type": "code",
   "execution_count": 23,
   "metadata": {},
   "outputs": [
    {
     "name": "stdout",
     "output_type": "stream",
     "text": [
      "(455, 30)\n",
      "(455,)\n"
     ]
    }
   ],
   "source": [
    "from sklearn.model_selection import train_test_split \n",
    "from sklearn.preprocessing import LabelEncoder \n",
    "from sklearn.preprocessing import scale \n",
    "numbers = LabelEncoder() \n",
    "y = numbers.fit_transform(breast_cancer['diagnosis'].astype('str'))\n",
    "X = scale(breast_cancer.drop(['id','diagnosis'], axis=1)) \n",
    "X_train, X_test, y_train, y_test = train_test_split(X, y, test_size=0.20, random_state=12345)\n",
    "print(X_train.shape)\n",
    "print(y_train.shape)"
   ]
  },
  {
   "cell_type": "code",
   "execution_count": 24,
   "metadata": {},
   "outputs": [
    {
     "data": {
      "text/plain": [
       "KNeighborsClassifier(n_neighbors=21)"
      ]
     },
     "execution_count": 24,
     "metadata": {},
     "output_type": "execute_result"
    }
   ],
   "source": [
    "# the number of neighbors is 21 (k=21) - this is the square root of the number of training records\n",
    "from sklearn.neighbors import KNeighborsClassifier \n",
    "neigh = KNeighborsClassifier(n_neighbors=21) \n",
    "neigh.fit(X, y) "
   ]
  },
  {
   "cell_type": "code",
   "execution_count": 25,
   "metadata": {},
   "outputs": [
    {
     "name": "stdout",
     "output_type": "stream",
     "text": [
      "[[76  0]\n",
      " [ 3 35]]\n"
     ]
    }
   ],
   "source": [
    "from sklearn.metrics import confusion_matrix \n",
    "from sklearn.metrics import accuracy_score \n",
    "y_predict = neigh.predict(X_test) \n",
    "print(confusion_matrix(y_test, y_predict))"
   ]
  },
  {
   "cell_type": "code",
   "execution_count": 26,
   "metadata": {},
   "outputs": [
    {
     "name": "stdout",
     "output_type": "stream",
     "text": [
      "accuracy=  97.36842105263158\n"
     ]
    }
   ],
   "source": [
    "print(\"accuracy= \",accuracy_score(y_test, y_predict)*100)"
   ]
  },
  {
   "cell_type": "markdown",
   "metadata": {},
   "source": [
    "Ans: The Accuracy is 97.3%"
   ]
  },
  {
   "cell_type": "markdown",
   "metadata": {},
   "source": [
    "#### Q4. Now let’s get back to our problem of news popularity and see if we can apply KNN (K- nearest neighbors) to improve the accuracy of the model. Use the same strategy of training and testing that we did on first 2 labs, and don’t forget that whenever it is required you should use: set.seed(12345). Use PCA to reduce the number of features."
   ]
  },
  {
   "cell_type": "code",
   "execution_count": 27,
   "metadata": {},
   "outputs": [
    {
     "data": {
      "text/html": [
       "<div>\n",
       "<style scoped>\n",
       "    .dataframe tbody tr th:only-of-type {\n",
       "        vertical-align: middle;\n",
       "    }\n",
       "\n",
       "    .dataframe tbody tr th {\n",
       "        vertical-align: top;\n",
       "    }\n",
       "\n",
       "    .dataframe thead th {\n",
       "        text-align: right;\n",
       "    }\n",
       "</style>\n",
       "<table border=\"1\" class=\"dataframe\">\n",
       "  <thead>\n",
       "    <tr style=\"text-align: right;\">\n",
       "      <th></th>\n",
       "      <th>url</th>\n",
       "      <th>timedelta</th>\n",
       "      <th>n_tokens_title</th>\n",
       "      <th>n_tokens_content</th>\n",
       "      <th>n_unique_tokens</th>\n",
       "      <th>n_non_stop_words</th>\n",
       "      <th>n_non_stop_unique_tokens</th>\n",
       "      <th>num_hrefs</th>\n",
       "      <th>num_self_hrefs</th>\n",
       "      <th>num_imgs</th>\n",
       "      <th>...</th>\n",
       "      <th>min_positive_polarity</th>\n",
       "      <th>max_positive_polarity</th>\n",
       "      <th>avg_negative_polarity</th>\n",
       "      <th>min_negative_polarity</th>\n",
       "      <th>max_negative_polarity</th>\n",
       "      <th>title_subjectivity</th>\n",
       "      <th>title_sentiment_polarity</th>\n",
       "      <th>abs_title_subjectivity</th>\n",
       "      <th>abs_title_sentiment_polarity</th>\n",
       "      <th>shares</th>\n",
       "    </tr>\n",
       "  </thead>\n",
       "  <tbody>\n",
       "    <tr>\n",
       "      <th>0</th>\n",
       "      <td>http://mashable.com/2013/01/07/amazon-instant-...</td>\n",
       "      <td>731</td>\n",
       "      <td>12</td>\n",
       "      <td>219</td>\n",
       "      <td>0.663594</td>\n",
       "      <td>1.0</td>\n",
       "      <td>0.815385</td>\n",
       "      <td>4</td>\n",
       "      <td>2</td>\n",
       "      <td>1</td>\n",
       "      <td>...</td>\n",
       "      <td>0.100000</td>\n",
       "      <td>0.7</td>\n",
       "      <td>-0.350000</td>\n",
       "      <td>-0.600</td>\n",
       "      <td>-0.200000</td>\n",
       "      <td>0.5</td>\n",
       "      <td>-0.1875</td>\n",
       "      <td>0.0</td>\n",
       "      <td>0.1875</td>\n",
       "      <td>593</td>\n",
       "    </tr>\n",
       "    <tr>\n",
       "      <th>1</th>\n",
       "      <td>http://mashable.com/2013/01/07/ap-samsung-spon...</td>\n",
       "      <td>731</td>\n",
       "      <td>9</td>\n",
       "      <td>255</td>\n",
       "      <td>0.604743</td>\n",
       "      <td>1.0</td>\n",
       "      <td>0.791946</td>\n",
       "      <td>3</td>\n",
       "      <td>1</td>\n",
       "      <td>1</td>\n",
       "      <td>...</td>\n",
       "      <td>0.033333</td>\n",
       "      <td>0.7</td>\n",
       "      <td>-0.118750</td>\n",
       "      <td>-0.125</td>\n",
       "      <td>-0.100000</td>\n",
       "      <td>0.0</td>\n",
       "      <td>0.0000</td>\n",
       "      <td>0.5</td>\n",
       "      <td>0.0000</td>\n",
       "      <td>711</td>\n",
       "    </tr>\n",
       "    <tr>\n",
       "      <th>2</th>\n",
       "      <td>http://mashable.com/2013/01/07/apple-40-billio...</td>\n",
       "      <td>731</td>\n",
       "      <td>9</td>\n",
       "      <td>211</td>\n",
       "      <td>0.575130</td>\n",
       "      <td>1.0</td>\n",
       "      <td>0.663866</td>\n",
       "      <td>3</td>\n",
       "      <td>1</td>\n",
       "      <td>1</td>\n",
       "      <td>...</td>\n",
       "      <td>0.100000</td>\n",
       "      <td>1.0</td>\n",
       "      <td>-0.466667</td>\n",
       "      <td>-0.800</td>\n",
       "      <td>-0.133333</td>\n",
       "      <td>0.0</td>\n",
       "      <td>0.0000</td>\n",
       "      <td>0.5</td>\n",
       "      <td>0.0000</td>\n",
       "      <td>1500</td>\n",
       "    </tr>\n",
       "    <tr>\n",
       "      <th>3</th>\n",
       "      <td>http://mashable.com/2013/01/07/astronaut-notre...</td>\n",
       "      <td>731</td>\n",
       "      <td>9</td>\n",
       "      <td>531</td>\n",
       "      <td>0.503788</td>\n",
       "      <td>1.0</td>\n",
       "      <td>0.665635</td>\n",
       "      <td>9</td>\n",
       "      <td>0</td>\n",
       "      <td>1</td>\n",
       "      <td>...</td>\n",
       "      <td>0.136364</td>\n",
       "      <td>0.8</td>\n",
       "      <td>-0.369697</td>\n",
       "      <td>-0.600</td>\n",
       "      <td>-0.166667</td>\n",
       "      <td>0.0</td>\n",
       "      <td>0.0000</td>\n",
       "      <td>0.5</td>\n",
       "      <td>0.0000</td>\n",
       "      <td>1200</td>\n",
       "    </tr>\n",
       "  </tbody>\n",
       "</table>\n",
       "<p>4 rows × 61 columns</p>\n",
       "</div>"
      ],
      "text/plain": [
       "                                                 url  timedelta  \\\n",
       "0  http://mashable.com/2013/01/07/amazon-instant-...        731   \n",
       "1  http://mashable.com/2013/01/07/ap-samsung-spon...        731   \n",
       "2  http://mashable.com/2013/01/07/apple-40-billio...        731   \n",
       "3  http://mashable.com/2013/01/07/astronaut-notre...        731   \n",
       "\n",
       "   n_tokens_title  n_tokens_content  n_unique_tokens  n_non_stop_words  \\\n",
       "0              12               219         0.663594               1.0   \n",
       "1               9               255         0.604743               1.0   \n",
       "2               9               211         0.575130               1.0   \n",
       "3               9               531         0.503788               1.0   \n",
       "\n",
       "   n_non_stop_unique_tokens  num_hrefs  num_self_hrefs  num_imgs  ...  \\\n",
       "0                  0.815385          4               2         1  ...   \n",
       "1                  0.791946          3               1         1  ...   \n",
       "2                  0.663866          3               1         1  ...   \n",
       "3                  0.665635          9               0         1  ...   \n",
       "\n",
       "   min_positive_polarity  max_positive_polarity  avg_negative_polarity  \\\n",
       "0               0.100000                    0.7              -0.350000   \n",
       "1               0.033333                    0.7              -0.118750   \n",
       "2               0.100000                    1.0              -0.466667   \n",
       "3               0.136364                    0.8              -0.369697   \n",
       "\n",
       "   min_negative_polarity  max_negative_polarity  title_subjectivity  \\\n",
       "0                 -0.600              -0.200000                 0.5   \n",
       "1                 -0.125              -0.100000                 0.0   \n",
       "2                 -0.800              -0.133333                 0.0   \n",
       "3                 -0.600              -0.166667                 0.0   \n",
       "\n",
       "   title_sentiment_polarity  abs_title_subjectivity  \\\n",
       "0                   -0.1875                     0.0   \n",
       "1                    0.0000                     0.5   \n",
       "2                    0.0000                     0.5   \n",
       "3                    0.0000                     0.5   \n",
       "\n",
       "   abs_title_sentiment_polarity  shares  \n",
       "0                        0.1875     593  \n",
       "1                        0.0000     711  \n",
       "2                        0.0000    1500  \n",
       "3                        0.0000    1200  \n",
       "\n",
       "[4 rows x 61 columns]"
      ]
     },
     "execution_count": 27,
     "metadata": {},
     "output_type": "execute_result"
    }
   ],
   "source": [
    "import pandas as pd\n",
    "# Read the csv file\n",
    "news = pd.read_csv(\"./NewsPopularity.csv\")\n",
    "news.head(4)"
   ]
  },
  {
   "cell_type": "code",
   "execution_count": 28,
   "metadata": {},
   "outputs": [],
   "source": [
    "from sklearn.preprocessing import LabelEncoder\n",
    "from sklearn.model_selection import train_test_split \n",
    "from sklearn.model_selection import cross_val_score\n",
    "from sklearn import metrics\n",
    "from sklearn.ensemble import RandomForestClassifier\n",
    "X = news[0:58]\n",
    "Y = news['shares']"
   ]
  },
  {
   "cell_type": "code",
   "execution_count": 29,
   "metadata": {},
   "outputs": [],
   "source": [
    "# get the statistics of original attributes \n",
    "data = news[news.keys()[-1]]\n",
    "data.describe()\n",
    "# Encode the label by threshold 1400\n",
    "from sklearn import preprocessing\n",
    "label_encoder = preprocessing.LabelEncoder()\n",
    "popular_label = pd.Series(label_encoder.fit_transform(data>=1400))"
   ]
  },
  {
   "cell_type": "code",
   "execution_count": 30,
   "metadata": {},
   "outputs": [],
   "source": [
    "popular = news.shares >= 1400\n",
    "unpopular = news.shares < 1400\n",
    "news.loc[popular,'shares'] = 1\n",
    "news.loc[unpopular,'shares'] = 0"
   ]
  },
  {
   "cell_type": "code",
   "execution_count": 31,
   "metadata": {},
   "outputs": [],
   "source": [
    "features=list(news.columns[2:60])"
   ]
  },
  {
   "cell_type": "code",
   "execution_count": 32,
   "metadata": {},
   "outputs": [
    {
     "name": "stdout",
     "output_type": "stream",
     "text": [
      "(27750, 58)\n",
      "(27750,)\n"
     ]
    }
   ],
   "source": [
    "# split dataset to 70-30 training and testing resp.\n",
    "X_train, X_test, y_train, y_test = train_test_split(news[features], news['shares'], test_size=0.30 ,random_state=12345)\n",
    "\n",
    "#Shape of  training and test datasets\n",
    "print(X_train.shape)\n",
    "print(y_train.shape)"
   ]
  },
  {
   "cell_type": "markdown",
   "metadata": {},
   "source": [
    "### Prinicipal Component Analysis (PCA) - News Popularity Dataset"
   ]
  },
  {
   "cell_type": "code",
   "execution_count": 33,
   "metadata": {},
   "outputs": [],
   "source": [
    "from sklearn.preprocessing import StandardScaler\n",
    "sc = StandardScaler()\n",
    "X_train_std = sc.fit_transform(X_train)\n",
    "X_test_std = sc.transform(X_test)"
   ]
  },
  {
   "cell_type": "code",
   "execution_count": 34,
   "metadata": {},
   "outputs": [
    {
     "name": "stdout",
     "output_type": "stream",
     "text": [
      "Raw Eigenvalues: \n",
      " [ 4.81126318e+00  3.99782401e+00  3.60110200e+00  3.00358880e+00\n",
      "  2.72579379e+00  2.55137034e+00  2.44024932e+00  2.22900065e+00\n",
      "  2.12613756e+00  2.02616438e+00  2.00345330e+00  1.88346719e+00\n",
      "  1.62322526e+00  1.37550470e+00  1.35361458e+00  1.23942997e+00\n",
      "  1.22670125e+00  1.22019235e+00  1.18877600e+00  1.16285389e+00\n",
      "  1.12483809e+00  1.07863560e+00  1.04634642e+00  9.06579037e-01\n",
      "  8.78809434e-01  8.02368687e-01  7.17870665e-01  6.72963049e-01\n",
      "  6.56888623e-01  6.06264482e-01  5.73041295e-01  5.60475426e-01\n",
      "  5.35621241e-01  4.91901347e-01  4.44398488e-01  4.60344953e-01\n",
      "  3.63900062e-01  3.17283506e-01  3.01414975e-01  2.42548288e-01\n",
      "  2.46029139e-01  2.23190195e-01  1.94030343e-01  1.82554026e-01\n",
      "  1.29223598e-01  9.79069924e-02  8.08828409e-02  7.01397429e-02\n",
      "  6.01866823e-02  5.06412939e-02  2.62529866e-02  3.57368940e-02\n",
      "  3.29009642e-02  1.75935612e-04  3.23264389e-05  3.38535749e-10\n",
      "  9.73174433e-16 -1.83075291e-15]\n",
      "Percentage of Variance Explained by Each Component: \n",
      " [ 8.29498242e-02  6.89255163e-02  6.20857281e-02  5.17841475e-02\n",
      "  4.69947511e-02  4.39875586e-02  4.20717480e-02  3.84296608e-02\n",
      "  3.66562231e-02  3.49326097e-02  3.45410535e-02  3.24724020e-02\n",
      "  2.79856338e-02  2.37147436e-02  2.33373414e-02  2.13687122e-02\n",
      "  2.11492595e-02  2.10370411e-02  2.04953994e-02  2.00484826e-02\n",
      "  1.93930613e-02  1.85964954e-02  1.80398054e-02  1.56301098e-02\n",
      "  1.51513408e-02  1.38334444e-02  1.23766344e-02  1.16023931e-02\n",
      "  1.13252578e-02  1.04524592e-02  9.87966630e-03  9.66302118e-03\n",
      "  9.23451620e-03  8.48075209e-03  7.66176679e-03  7.93669592e-03\n",
      "  6.27391290e-03  5.47020815e-03  5.19662265e-03  4.18171634e-03\n",
      "  4.24172885e-03  3.84796813e-03  3.34523020e-03  3.14736979e-03\n",
      "  2.22791277e-03  1.68799076e-03  1.39448149e-03  1.20926233e-03\n",
      "  1.03766402e-03  8.73094294e-04  4.52621389e-04  6.16131142e-04\n",
      "  5.67237562e-04  3.03326331e-06  5.57332310e-07  5.83661293e-12\n",
      "  1.67782649e-17 -3.15635678e-17]\n"
     ]
    }
   ],
   "source": [
    "import numpy as np\n",
    "cov_mat = np.cov(X_train_std.T)\n",
    "\n",
    "# From this covariance matrix, caluclate the Eigenvalues and the Eigenvectors\n",
    "eigen_vals, eigen_vecs = np.linalg.eig(cov_mat)\n",
    "\n",
    "# print the Eigenvalues\n",
    "print(\"Raw Eigenvalues: \\n\", eigen_vals)\n",
    "# the sum of the Eigenvalues \n",
    "print(\"Percentage of Variance Explained by Each Component: \\n\", eigen_vals/sum(eigen_vals))"
   ]
  },
  {
   "cell_type": "code",
   "execution_count": 35,
   "metadata": {},
   "outputs": [
    {
     "data": {
      "text/plain": [
       "array([0.08294982, 0.15187534, 0.21396107, 0.26574522, 0.31273997,\n",
       "       0.35672753, 0.39879927, 0.43722893, 0.47388516, 0.50881777,\n",
       "       0.54335882, 0.57583122, 0.60381686, 0.6275316 , 0.65086894,\n",
       "       0.67223765, 0.69338691, 0.71442395, 0.73491935, 0.75496784,\n",
       "       0.7743609 , 0.79295739, 0.8109972 , 0.82662731, 0.84177865,\n",
       "       0.85561209, 0.86798873, 0.87959112, 0.89091638, 0.90136884,\n",
       "       0.9112485 , 0.92091153, 0.93014604, 0.93862679, 0.94656349,\n",
       "       0.95422526, 0.96049917, 0.96596938, 0.971166  , 0.97540773,\n",
       "       0.97958945, 0.98343741, 0.98678264, 0.98993001, 0.99215793,\n",
       "       0.99384592, 0.9952404 , 0.99644966, 0.99748733, 0.99836042,\n",
       "       0.99897655, 0.99954379, 0.99999641, 0.99999944, 1.        ,\n",
       "       1.        , 1.        , 1.        ])"
      ]
     },
     "execution_count": 35,
     "metadata": {},
     "output_type": "execute_result"
    }
   ],
   "source": [
    "# let's look at the cumulative variance described by each component\n",
    "tot = sum(eigen_vals)\n",
    "var_exp = [(i / tot) for i in sorted(eigen_vals, reverse=True)]\n",
    "cum_var_exp = np.cumsum(var_exp)\n",
    "cum_var_exp"
   ]
  },
  {
   "cell_type": "code",
   "execution_count": 36,
   "metadata": {},
   "outputs": [
    {
     "data": {
      "image/png": "[encoded data removed]",
      "text/plain": [
       "<Figure size 432x288 with 1 Axes>"
      ]
     },
     "metadata": {
      "needs_background": "light"
     },
     "output_type": "display_data"
    }
   ],
   "source": [
    "# make a bar plot of the variance associated with each component\n",
    "import matplotlib.pyplot as plt\n",
    "\n",
    "plt.bar(range(2,60), var_exp, alpha=0.5, align='center',\n",
    "        label='Individual explained variance')\n",
    "plt.step(range(2,60), cum_var_exp, where='mid',\n",
    "         label='Cumulative explained variance',\n",
    "         color='red')\n",
    "plt.ylabel('Explained variance ratio')\n",
    "plt.xlabel('Principal component index')\n",
    "plt.show()"
   ]
  },
  {
   "cell_type": "code",
   "execution_count": 37,
   "metadata": {},
   "outputs": [
    {
     "name": "stdout",
     "output_type": "stream",
     "text": [
      "sklearn var:\n",
      " [8.29498242e-02 6.89255163e-02 6.20857281e-02 5.17841475e-02\n",
      " 4.69947511e-02 4.39875586e-02 4.20717480e-02 3.84296608e-02\n",
      " 3.66562231e-02 3.49326097e-02 3.45410535e-02 3.24724020e-02\n",
      " 2.79856338e-02 2.37147436e-02 2.33373414e-02 2.13687122e-02\n",
      " 2.11492595e-02 2.10370411e-02 2.04953994e-02 2.00484826e-02\n",
      " 1.93930613e-02 1.85964954e-02 1.80398054e-02 1.56301098e-02\n",
      " 1.51513408e-02 1.38334444e-02 1.23766344e-02 1.16023931e-02\n",
      " 1.13252578e-02 1.04524592e-02 9.87966630e-03 9.66302118e-03\n",
      " 9.23451620e-03 8.48075209e-03 7.93669592e-03 7.66176679e-03\n",
      " 6.27391290e-03 5.47020815e-03 5.19662265e-03 4.24172885e-03\n",
      " 4.18171634e-03 3.84796813e-03 3.34523020e-03 3.14736979e-03\n",
      " 2.22791277e-03 1.68799076e-03 1.39448149e-03 1.20926233e-03\n",
      " 1.03766402e-03 8.73094294e-04 6.16131142e-04 5.67237562e-04\n",
      " 4.52621389e-04 3.03326331e-06 5.57332310e-07 5.83661484e-12\n",
      " 7.30493647e-32 1.98500907e-32]\n",
      "numpy var: \n",
      " [ 8.29498242e-02  6.89255163e-02  6.20857281e-02  5.17841475e-02\n",
      "  4.69947511e-02  4.39875586e-02  4.20717480e-02  3.84296608e-02\n",
      "  3.66562231e-02  3.49326097e-02  3.45410535e-02  3.24724020e-02\n",
      "  2.79856338e-02  2.37147436e-02  2.33373414e-02  2.13687122e-02\n",
      "  2.11492595e-02  2.10370411e-02  2.04953994e-02  2.00484826e-02\n",
      "  1.93930613e-02  1.85964954e-02  1.80398054e-02  1.56301098e-02\n",
      "  1.51513408e-02  1.38334444e-02  1.23766344e-02  1.16023931e-02\n",
      "  1.13252578e-02  1.04524592e-02  9.87966630e-03  9.66302118e-03\n",
      "  9.23451620e-03  8.48075209e-03  7.66176679e-03  7.93669592e-03\n",
      "  6.27391290e-03  5.47020815e-03  5.19662265e-03  4.18171634e-03\n",
      "  4.24172885e-03  3.84796813e-03  3.34523020e-03  3.14736979e-03\n",
      "  2.22791277e-03  1.68799076e-03  1.39448149e-03  1.20926233e-03\n",
      "  1.03766402e-03  8.73094294e-04  4.52621389e-04  6.16131142e-04\n",
      "  5.67237562e-04  3.03326331e-06  5.57332310e-07  5.83661293e-12\n",
      "  1.67782649e-17 -3.15635678e-17]\n"
     ]
    }
   ],
   "source": [
    "from sklearn.decomposition import PCA\n",
    "pca = PCA()\n",
    "# fit_transform() is used to calculate the PCAs from training data\n",
    "X_train_pca = pca.fit_transform(X_train_std)\n",
    "\n",
    "# to get the fit statistics (variance explained per component)\n",
    "print(\"sklearn var:\\n\", pca.explained_variance_ratio_)\n",
    "print(\"numpy var: \\n\", eigen_vals/sum(eigen_vals))"
   ]
  },
  {
   "cell_type": "code",
   "execution_count": 38,
   "metadata": {},
   "outputs": [
    {
     "data": {
      "image/png": "[encoded data removed]",
      "text/plain": [
       "<Figure size 432x288 with 1 Axes>"
      ]
     },
     "metadata": {
      "needs_background": "light"
     },
     "output_type": "display_data"
    }
   ],
   "source": [
    "plt.bar(range(2,60), pca.explained_variance_ratio_,\n",
    "        alpha=0.5,\n",
    "        align='center')\n",
    "plt.step(range(2,60), np.cumsum(pca.explained_variance_ratio_),\n",
    "         where='mid',\n",
    "         color='red')\n",
    "plt.ylabel('Explained variance ratio')\n",
    "plt.xlabel('Principal Components')\n",
    "plt.show()"
   ]
  },
  {
   "cell_type": "code",
   "execution_count": 39,
   "metadata": {},
   "outputs": [],
   "source": [
    "from sklearn.linear_model import LogisticRegression\n",
    "\n",
    "# we can either use number of componets\n",
    "# or cumulative explained variance ratio\n",
    "# like PCA(0.95)\n",
    "pca = PCA(n_components=20) # selecting first 20 important features out of 58.\n",
    "\n",
    "# fit_transform() to calculate the coordinate system\n",
    "X_train_pca = pca.fit_transform(X_train_std)\n",
    "# transform() to apply that coordinate system\n",
    "X_test_pca = pca.transform(X_test_std)"
   ]
  },
  {
   "cell_type": "code",
   "execution_count": 40,
   "metadata": {},
   "outputs": [
    {
     "data": {
      "text/plain": [
       "KNeighborsClassifier(n_neighbors=166)"
      ]
     },
     "execution_count": 40,
     "metadata": {},
     "output_type": "execute_result"
    }
   ],
   "source": [
    "# the number of neighbors is 21 (k=21) - this is the square root of the number of training records\n",
    "from sklearn.neighbors import KNeighborsClassifier \n",
    "neigh = KNeighborsClassifier(n_neighbors=166) \n",
    "neigh.fit(X_train_pca, y_train) "
   ]
  },
  {
   "cell_type": "code",
   "execution_count": 41,
   "metadata": {},
   "outputs": [
    {
     "name": "stdout",
     "output_type": "stream",
     "text": [
      "[[3160 2331]\n",
      " [1936 4467]]\n"
     ]
    }
   ],
   "source": [
    "from sklearn.metrics import confusion_matrix \n",
    "from sklearn.metrics import accuracy_score \n",
    "y_predict = neigh.predict(X_test_pca) \n",
    "print(confusion_matrix(y_test, y_predict))"
   ]
  },
  {
   "cell_type": "code",
   "execution_count": 42,
   "metadata": {},
   "outputs": [
    {
     "name": "stdout",
     "output_type": "stream",
     "text": [
      "accuracy=  64.12476879098705\n"
     ]
    }
   ],
   "source": [
    "print(\"accuracy= \", accuracy_score(y_test, y_predict)*100)"
   ]
  },
  {
   "cell_type": "markdown",
   "metadata": {},
   "source": [
    "#### The Accuracy of the model after doing prinicipal component analysis (PCA)and selecting 20 features is 64.11%. which is close to the accuracy decision tree model (58.6%) and random forest classifier (66.8%).  "
   ]
  }
 ],
 "metadata": {
  "kernelspec": {
   "display_name": "Python 3",
   "language": "python",
   "name": "python3"
  },
  "language_info": {
   "codemirror_mode": {
    "name": "ipython",
    "version": 3
   },
   "file_extension": ".py",
   "mimetype": "text/x-python",
   "name": "python",
   "nbconvert_exporter": "python",
   "pygments_lexer": "ipython3",
   "version": "3.8.5"
  }
 },
 "nbformat": 4,
 "nbformat_minor": 4
}
